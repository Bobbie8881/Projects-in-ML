{
 "cells": [
  {
   "cell_type": "markdown",
   "id": "9ad116f3",
   "metadata": {},
   "source": [
    "# Portfolio of Projects"
   ]
  },
  {
   "cell_type": "markdown",
   "id": "4f94f829",
   "metadata": {},
   "source": [
    "### Github Repo:  https://github.com/Bobbie8881/Projects-in-ML"
   ]
  },
  {
   "cell_type": "markdown",
   "id": "8afe6911",
   "metadata": {},
   "source": [
    "### Introduction"
   ]
  },
  {
   "cell_type": "markdown",
   "id": "fbaf98bc",
   "metadata": {},
   "source": [
    "This notebook serves as a portfolio detailing the projects completed during the current semester. Each project is summarized below and includes a brief description, dataset used, and key findings"
   ]
  },
  {
   "cell_type": "markdown",
   "id": "b02a4889",
   "metadata": {},
   "source": [
    "### Project 1: U.N. World Happiness Data"
   ]
  },
  {
   "cell_type": "markdown",
   "id": "a3abdf08",
   "metadata": {},
   "source": [
    "Link: https://github.com/Bobbie8881/Projects-in-ML/blob/main/Assignment%201-Teng-Shao%20Lu.ipynb"
   ]
  },
  {
   "cell_type": "markdown",
   "id": "26bc99e3",
   "metadata": {},
   "source": [
    "Description: Use Random Forest with GridSearchCV, GradientBoostingClassifier, KNeighborsClassifier with GridSearchCV and GaussianNB models to see whether variables measuring perceptions of corruption, GDP, maintaining a healthy lifestyle, or social support associate with a country's happiness ranking"
   ]
  },
  {
   "cell_type": "markdown",
   "id": "4ba9c219",
   "metadata": {},
   "source": [
    "Dataset: United Nation's World Happiness Rankings country level data\n",
    "\n",
    "This dataset contains information on several countries or regions, with various indicators of well-being or quality of life, as well as information on the region and sub-region to which they belong. The specific variables included in the dataset are:\n",
    "\n",
    "This dataset appears to contain information on several countries or regions, with various indicators of well-being or quality of life, as well as information on the region and sub-region to which they belong. The specific variables included in the dataset are:\n",
    "\n",
    "GDP per capita: a measure of the economic output per person in the country or region\n",
    "\n",
    "Social support: a measure of the extent to which social networks and supportive relationships exist within the country or region\n",
    "\n",
    "Healthy life expectancy: an estimate of the number of years a person can expect to live in good health based on factors such as healthcare access, sanitation, and lifestyle\n",
    "\n",
    "Freedom to make life choices: a measure of the extent to which individuals are able to make choices about their own lives without interference from others\n",
    "\n",
    "Generosity: a measure of the tendency to give resources such as time, money, or other assets to others without expectation of immediate or future rewards\n",
    "\n",
    "Perceptions of corruption: a measure of the extent to which corruption is perceived to exist in the country or region\n",
    "\n",
    "In addition to these variables, the dataset also includes information on the name of the country or region, the region to which it belongs (e.g. Americas, Europe, Asia), the sub-region within the region (e.g. Latin America and the Caribbean, Southern Europe), and a variable called \"Terrorist_attacks,\" which appears to be a count of terrorist attacks within the country or region."
   ]
  },
  {
   "cell_type": "markdown",
   "id": "00bfe6cd",
   "metadata": {},
   "source": [
    "Key Findings:\n",
    "\n",
    "Countries or regions with higher median in GDP per capita, social support, healthy life expectancy, freedom to make life choices tend to have higher happiness level. Features like generosity and perceptions of corruption do not matter much only if the median happiness level is very high. Countries and regions that have the higheset terrorist attacks tend to have lower median happiness level.\n",
    "\n",
    "\n",
    "Within all models I tried, I found out that random forest with the max depth of 7 and the number of estimators with 600 provide me the highest test score on the leaderboard."
   ]
  },
  {
   "cell_type": "markdown",
   "id": "92ce8446",
   "metadata": {},
   "source": [
    "### Project 2: Use of Covid Positive X-Ray Image Data"
   ]
  },
  {
   "cell_type": "markdown",
   "id": "3741c182",
   "metadata": {},
   "source": [
    "Link: https://github.com/Bobbie8881/Projects-in-ML/blob/main/Assignment_2_Teng_Shao_Lu.ipynb"
   ]
  },
  {
   "cell_type": "markdown",
   "id": "a512e108",
   "metadata": {},
   "source": [
    "Description: Use CNN with Multiple Layers (epochs = 10), VGG19 Transfer Learning Model, ResNet Transfer Learning Model and CNN with augmented data to try to predict x-ray images \n"
   ]
  },
  {
   "cell_type": "markdown",
   "id": "fa10a4f8",
   "metadata": {},
   "source": [
    "Dataset: COVID-19_Radiography_Dataset\n",
    "\n",
    "The COVID-19 Radiography Dataset is a collection of chest X-ray pictures taken of COVID-19 patients as well as healthy people and people with various respiratory conditions."
   ]
  },
  {
   "cell_type": "markdown",
   "id": "6f55350b",
   "metadata": {},
   "source": [
    "Key Findings:\n",
    "\n",
    "Building a predictive model using this data might be practically useful in a number of ways. First, it can aid in the automation of the COVID-19 diagnosing process, which can lighten the strain of medical personnel and quicken the testing procedure. Second, the predictive model can help identify COVID-19 patients who require urgent medical attention. The prediction model can assist in finding patterns and characteristics that are suggestive of severe COVID-19 instances by examining X-ray pictures.\n",
    "\n",
    "Healthcare professionals, public health officials, legislators, and patients, may find practical utility in a predictive model based on the COVID-19 Radiography Dataset. It could assist in automating the COVID-19 diagnosis process, enhancing diagnosis accuracy, identifying high-risk patients, and tracking the disease's course in specific patients.\n",
    "\n",
    "Of all models I tried, CNN, CNN with rescale generator, ResNet Transfer Learning and VGG19 Transfer Learning, CNN performed the best. The relevant hyper-parameter is 10 Conv2D, 4 MaxPooling2D, 1 Flatten and 1 Dense layers."
   ]
  },
  {
   "cell_type": "markdown",
   "id": "a84f9903",
   "metadata": {},
   "source": [
    "### Project 3: Text Classification Using the Stanford SST Sentiment Dataset"
   ]
  },
  {
   "cell_type": "markdown",
   "id": "4badd0d8",
   "metadata": {},
   "source": [
    "Link: https://github.com/Bobbie8881/Projects-in-ML/blob/main/Assignment%203-Teng-Shao%20Lu.ipynb"
   ]
  },
  {
   "cell_type": "markdown",
   "id": "91f9fc79",
   "metadata": {},
   "source": [
    "Description: Use an Embedding layer and three LSTM layers, an Embedding layer and two Conv1d layersand Transfer learning with glove embeddings models to classify text from movie reviews using the benchmark SST-2 dataset"
   ]
  },
  {
   "cell_type": "markdown",
   "id": "468ec2b7",
   "metadata": {},
   "source": [
    "Dataset: SST-2 dataset\n",
    "\n",
    "The sst2_competition_data is a dataset that contains movie reviews along with their corresponding sentiment labels, either \"positive\" or \"negative\". The dataset consists of 6,920 training samples and 1821 test samples."
   ]
  },
  {
   "cell_type": "markdown",
   "id": "a5d639a5",
   "metadata": {},
   "source": [
    "Key Findings:\n",
    "\n",
    "Building a predictive model using this dataset could be pratically useful for businesses in the entertainment industry, such as movie production companies, streaming services, and movie review websites. With the ability to accurately predict the sentiment of movie reviews, such businesses could obtain valuable insights regarding the public's perception of their movies, which could aid in refining their marketing strategies and making well-informed decisions pertaining to the production, distribution, and promotion of their movies.\n",
    "\n",
    "For example, by examining the pre-release evaluations of a new film, the movie production company may apply a predictive model trained on this information to forecast the likelihood that the film will be successful. If the model predicts a negative sentiment, the studio may decide to alter the film or its marketing plan in an effort to increase the likelihood of success. On the other hand, if the model forecasts a favorable mood, the business can utilize that data to customize its marketing strategy to increase awareness and ticket sales.\n",
    "\n",
    "The best model I have is Transfer learning with glove embeddings, the train accuray is incredibly high, and the test accuracy is around 0.72. The relevant hyper-paramet values for this successful model is\n",
    "\n",
    "Embedding layer parameters:\n",
    "\n",
    "input_dim: 10000, which is the size of the vocabulary of the input data.\n",
    "\n",
    "output_dim: 100, which is the dimensionality of the output space.\n",
    "\n",
    "input_length: 40, which is the length of the input sequences.\n",
    "\n",
    "Dense layer parameters:\n",
    "\n",
    "units: 256, which is the number of output units in the layer.\n",
    "\n",
    "activation: 'relu', which is the activation function used by the layer.\n",
    "\n",
    "Dense layer parameters:\n",
    "\n",
    "units: 2, which is the number of output units in the layer.\n",
    "\n",
    "activation: 'softmax', which is the activation function used by the layer.\n",
    "\n",
    "epochs: 10, which is the number of times the model will iterate over the entire training dataset.\n",
    "\n",
    "batch_size: 32, which is the number of samples processed before the model is updated."
   ]
  },
  {
   "cell_type": "markdown",
   "id": "ec468313",
   "metadata": {},
   "source": [
    "### Conclusion"
   ]
  },
  {
   "cell_type": "markdown",
   "id": "ee83db44",
   "metadata": {},
   "source": [
    "This portfolio showcases the projects completed during the current semester, providing a brief summary of each project, the dataset used, and key findings. Through these projects, I have gained valuable experience in applying machine learning models to dataset, and I am excited to continue applying these skills to future projects."
   ]
  }
 ],
 "metadata": {
  "kernelspec": {
   "display_name": "Python 3",
   "language": "python",
   "name": "python3"
  },
  "language_info": {
   "codemirror_mode": {
    "name": "ipython",
    "version": 3
   },
   "file_extension": ".py",
   "mimetype": "text/x-python",
   "name": "python",
   "nbconvert_exporter": "python",
   "pygments_lexer": "ipython3",
   "version": "3.8.8"
  }
 },
 "nbformat": 4,
 "nbformat_minor": 5
}
